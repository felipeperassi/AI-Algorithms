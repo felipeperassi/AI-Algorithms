{
 "cells": [
  {
   "cell_type": "markdown",
   "metadata": {
    "id": "R8pNr3kXbh-o"
   },
   "source": [
    "# <center> **TA136 - Taller de Procesamiento de Señales**\n",
    "## <center> **Trabajo Práctico 3: Regresión Logística**"
   ]
  },
  {
   "cell_type": "markdown",
   "metadata": {},
   "source": [
    "---\n",
    "---"
   ]
  },
  {
   "cell_type": "markdown",
   "metadata": {},
   "source": [
    "### <center> Introducción"
   ]
  },
  {
   "cell_type": "markdown",
   "metadata": {},
   "source": [
    "&ensp; En el presente trabajo se desarrolla un modelo de clasificación utilizando regresión logística, aplicado al reconocimiento de imágenes de gatos y perros. Para ello, se utilizó una base de datos descargada desde `Kaggle`, compuesta por $24.998$ imágenes. Estas fueron procesadas convirtiéndolas a escala de grises y redimensionadas a $16 \\times 16$ píxeles para facilitar el tratamiento computacional.\n",
    "\n",
    "&ensp; A lo largo del trabajo, se analizan conceptos teóricos fundamentales como la función sigmoide, su inversa y su derivada, así como la función de costo basada en la entropía cruzada. Se implementan diferentes estrategias de clasificación según la regresión logística, incluyendo regularización con distintos valores de hiperparámetros, y se evalúa su desempeño mediante la *accuracy* y la *cross-entropy* en los conjuntos de entrenamiento y testeo.\n",
    "\n",
    "&ensp; Además, se compara el comportamiento de los modelos con y sin regularización, y se analiza su desempeño mediante la curva ROC, contrastando también con un clasificador aleatorio. La implementación se llevó a cabo íntegramente en $\\texttt{Python}$, utilizando bibliotecas como `Sklearn`, `Numpy`, `Matplotlib` y `PIL`."
   ]
  },
  {
   "cell_type": "markdown",
   "metadata": {},
   "source": [
    "---\n",
    "---"
   ]
  },
  {
   "cell_type": "markdown",
   "metadata": {},
   "source": [
    "### <center> Desarrollo"
   ]
  },
  {
   "cell_type": "markdown",
   "metadata": {},
   "source": [
    "&ensp; Se desea desarrollar un clasificador de imágenes de gatos y perros utilizando regresión logística. Para ello, descargar la base de datos $\\texttt{dog-and-cat-classification-dataset}$ de kaggle. \n"
   ]
  },
  {
   "cell_type": "markdown",
   "metadata": {},
   "source": [
    "---"
   ]
  },
  {
   "cell_type": "markdown",
   "metadata": {},
   "source": [
    "#### (A). *Análisis:*"
   ]
  },
  {
   "cell_type": "markdown",
   "metadata": {},
   "source": [
    "**1. Calcular la función inversa $\\sigma^{-1}(p)$ con $p \\in (0, 1)$.**\n",
    "\n",
    "&ensp; Considerando que la función Sigmoide está dada por la siguiente expresión.\n",
    "\n",
    "$$ \\sigma (z) = \\frac{1}{1 + e^{-z}} $$\n",
    "\n",
    "&ensp; A fin de encontrar su inversa, se procede analíticamente de forma tal que:\n",
    "\n",
    "$$ \\sigma (z) = \\frac{1}{1 + e^{-z}} \\Longrightarrow  z = - \\log \\left(  \\frac{1}{\\sigma} - 1 \\right) \n",
    "$$\n",
    "\n",
    "&ensp; A partir de esto:\n",
    "\n",
    "$$ z = - \\log \\left(  \\frac{1}{\\sigma} - 1 \\right) \\Longrightarrow z = - \\log \\left( \\frac{1 - \\sigma}{\\sigma} \\right)$$\n",
    "\n",
    "&ensp; Y teniendo en cuenta que $-\\log \\left( \\frac{A}{B} \\right) = \\log \\left( \\frac{B}{A} \\right)$, se tiene:\n",
    "\n",
    "$$ z = - \\log \\left( \\frac{1 - \\sigma}{\\sigma} \\right) \\Longrightarrow z = \\log \\left( \\frac{\\sigma}{1 - \\sigma} \\right)$$\n",
    "\n",
    "&ensp; De esta manera, considerando que $p = \\sigma$ y que, al ser la función Sigmoide estará acotada entre $(0, 1)$, se obtiene el siguiente resultado:\n",
    "\n",
    "$$ \\sigma^{-1} (p) = \\log \\left( \\frac{p}{1 - p} \\right) $$"
   ]
  },
  {
   "cell_type": "markdown",
   "metadata": {},
   "source": [
    "**2. Sea $p = \\sigma(z)$ la función sigmoide, calcular la derivada $\\sigma '(z)$.**\n",
    "\n",
    "&ensp; En base a la expresión presentada anteriormente, se calcula la derivada de la misma considerando la propiedad de la derivada de una división, donde:\n",
    "\n",
    "$$ \\frac{d}{dx} \\left( \\frac{f(x)}{g(x)} \\right)= \\frac{\\frac{d f(x)}{dx} \\cdot g(x) - f(x) ~ \\frac{dg(x)}{dx}}{g(x)^2}$$\n",
    "\n",
    "&ensp; Así, se procede analíticamente, tal que:\n",
    "\n",
    "$$ \\frac{d ~ \\sigma(z)}{dz}  = \\frac{d}{dz} \\left( \\frac{1}{1 + e^{-z}} \\right) \\Longrightarrow \\frac{d ~ \\sigma(z)}{dz}  = \\frac{e^{-z}}{ \\left( 1 + e^{-z} \\right) ^2} $$  \n",
    "\n",
    "&ensp; Ahora, se busca expresar el resultado en función de $\\sigma(z) = p$, por lo tanto, se desarrolla lo siguiente:\n",
    "\n",
    "$$ 1 - \\underbrace{\\sigma (z)}_{p} =  1 - \\frac{1}{1 + e^{-z}} \\Longrightarrow 1 - p = \\frac{e^{-z}}{1 + e^{-z}} $$  \n",
    "\n",
    "&ensp; De este modo, se obtiene que:\n",
    "\n",
    "$$\\underbrace{\\frac{d ~ \\sigma (z)}{dz}}_{\\frac{dp}{dz}} = \\underbrace{\\frac{e^{-z}}{ 1 + e^{-z}}}_{1-p} \\cdot \\underbrace{\\frac{1}{ 1 + e^{-z}}}_{p} \\Longrightarrow \\frac{dp}{dz} = (1 - p) \\cdot p$$"
   ]
  },
  {
   "cell_type": "markdown",
   "metadata": {},
   "source": [
    "**3. Hallar una expresión analítica para la función costo y su gradiente.**\n",
    "\n",
    "&ensp; Teniendo en cuenta la expresión de la función costo de la regresión logística:\n",
    "\n",
    "$$ J(w) = - \\frac{1}{n} \\sum_{i=1}^{n} \\left[ Y_i \\log \\left( \\sigma (w^T X_i + b) \\right) + (1- Y_i) \\log \\left( 1 - \\sigma (w^T X_i + b )\\right) \\right]$$\n",
    "\n",
    "&ensp; Se calcula su gradiente teniendo en cuenta las propiedades para las derivadas matriciales, tal que:\n",
    "\n",
    "$$ \\nabla J(w) = \\frac{d ~ J(w)}{dw} =  \\frac{d}{dw} \\left(  - \\frac{1}{n} \\sum_{i=1}^{n} \\left[ Y_i \\log \\left( \\sigma (w^T X_i + b) \\right) + (1 - Y_i) \\log \\left( 1 - \\sigma (w^T X_i + b )\\right) \\right] \\right)$$\n",
    "\n",
    "&ensp; Los únicos términos que dependen de $w$ son los siguientes:\n",
    "\n",
    "$$\\frac{d}{dw} \\left[ \\log \\left( \\sigma (w^T X_i + b) \\right) \\right] ~~ \\text{y} ~~ \\frac{d}{dw} \\left[ \\log \\left( 1 - \\sigma (w^T X_i + b )\\right) \\right]$$\n",
    "\n",
    "&ensp; A modo de simplificar, se realiza un cambio de variables tal que $z = w^T X_i + b$ y se multiplica por $\\frac{dz}{dz}$, tal que:\n",
    "\n",
    "$$\\frac{dz}{dw} \\frac{d}{dz} \\left[ \\log \\left( \\sigma (z) \\right) \\right] ~~ \\text{y} ~~ \\frac{dz}{dw} \\frac{d}{dz} \\left[ \\log \\left( 1 - \\sigma (z)\\right) \\right]$$\n",
    "\n",
    "&ensp; De esta manera, teniendo que:\n",
    "\n",
    "$$\\frac{dz}{dw} = \\frac{d}{dw} \\left( w^T X_i + b \\right) \\Longrightarrow \\frac{dz}{dw} = X_i, $$\n",
    "\n",
    "$$ \\frac{d}{dz} \\left[ \\log \\left( \\sigma (z) \\right) \\right] = \\frac{1}{\\sigma (z)} \\frac{d ~ \\sigma(z)}{dz} \\Longrightarrow \\frac{d}{dz} \\left[ \\log \\left( \\sigma (z) \\right) \\right] = 1 - \\sigma(z), $$\n",
    "\n",
    "$$ \\frac{d}{dz} \\left[ \\log \\left( 1 - \\sigma (z)\\right) \\right] = \\frac{1}{1 - \\sigma (z)} \\left( - \\frac{d ~ \\sigma(z)}{dz} \\right) \\Longrightarrow \\frac{d}{dz} \\left[ \\log \\left( \\sigma (z) \\right) \\right] = -\\sigma(z).$$\n",
    "\n",
    "&ensp; Se tiene que:\n",
    "\n",
    "$$\\frac{dz}{dw} \\frac{d}{dz} \\left[ \\log \\left( \\sigma (z) \\right) \\right] = (1 - \\sigma(z)) \\cdot X_i ~~ \\text{y} ~~ \\frac{dz}{dw} \\frac{d}{dz} \\left[ \\log \\left( 1 - \\sigma (z)\\right) \\right] = - \\sigma (z) \\cdot X_i $$\n",
    " \n",
    "&ensp; Por lo tanto, en la expresión general:\n",
    "\n",
    "$$ \\frac{d}{dw} \\left(  - \\frac{1}{n} \\sum_{i=1}^{n} \\left[ Y_i \\log \\left( \\sigma (w^T X_i + b) \\right) + (1 - Y_i) \\log \\left( 1 - \\sigma (w^T X_i + b )\\right) \\right] \\right) = - \\frac{1}{n} \\sum_{i=1}^{n} \\left[ Y_i \\cdot (1 - \\sigma(z) \\cdot X_i) + (1 - Y_i) \\cdot (- \\sigma (z) \\cdot X_i) \\right] = - \\frac{1}{n} \\sum_{i=1}^{n} \\left[ Y_i - \\sigma (z) \\right] X_i$$\n",
    "\n",
    "&ensp; Finalmente, reemplazando por el cambio de variable se obtiene el siguiente resultado:\n",
    "\n",
    "$$ \\nabla J(w) = \\frac{d ~ J(w)}{dw} = - \\frac{1}{n} \\sum_{i=1}^{n} \\left[ Y_i - \\sigma (w^T X_i + b) \\right] X_i$$"
   ]
  },
  {
   "cell_type": "markdown",
   "metadata": {},
   "source": [
    "---"
   ]
  },
  {
   "cell_type": "markdown",
   "metadata": {},
   "source": [
    "#### (B). *Pre-Procesamiento:*"
   ]
  },
  {
   "cell_type": "markdown",
   "metadata": {},
   "source": [
    "**1. Las imágenes poseen diferentes tamaños. Convertirlas todas a $16 \\times 16$ utilizando $\\texttt{resize}$ (PIL).**\n",
    "\n",
    "**2. Las imágenes también poseen diferentes formatos. Convertirlas todas a escala de grises.**\n",
    "\n",
    "&ensp; A partir de la librería `Kaggle`, se descargó la base de datos de $24.998$ imágenes utilizada para el presente trabajo práctico. Cabe destacar que se utilizó la librería `Glob` para acceder de manera ordenada a las rutas de las imágenes de gatos y perros, y la librería `PIL` para abrir y procesar dichas imágenes. Estas fueron convertidas a escala de grises y redimensionadas a un tamaño de $16 \\times 16$ píxeles, tal como se requiere en este inciso del enunciado."
   ]
  },
  {
   "cell_type": "code",
   "execution_count": 153,
   "metadata": {
    "executionInfo": {
     "elapsed": 2791,
     "status": "ok",
     "timestamp": 1743952104722,
     "user": {
      "displayName": "Felipe Perassi",
      "userId": "05823434124223766793"
     },
     "user_tz": 180
    },
    "id": "p1iOVy8rbtt7"
   },
   "outputs": [
    {
     "name": "stderr",
     "output_type": "stream",
     "text": [
      "C:\\Users\\Usuario\\AppData\\Local\\Packages\\PythonSoftwareFoundation.Python.3.11_qbz5n2kfra8p0\\LocalCache\\local-packages\\Python311\\site-packages\\PIL\\TiffImagePlugin.py:935: UserWarning: Truncated File Read\n",
      "  warnings.warn(str(msg))\n"
     ]
    }
   ],
   "source": [
    "import numpy as np\n",
    "import matplotlib.pyplot as plt\n",
    "import kagglehub\n",
    "import glob\n",
    "from PIL import Image\n",
    "\n",
    "ruta_general = kagglehub.dataset_download(\"bhavikjikadara/dog-and-cat-classification-dataset\")\n",
    "\n",
    "ruta_gatos = sorted(glob.glob(ruta_general + '/PetImages/Cat/*.jpg'))\n",
    "ruta_perros = sorted(glob.glob(ruta_general + '/PetImages/Dog/*.jpg'))\n",
    "ruta_imagenes = np.concatenate((ruta_perros, ruta_gatos))\n",
    "\n",
    "imagenes = []\n",
    "for imagen in ruta_imagenes:\n",
    "    with Image.open(imagen).convert('L') as im:\n",
    "      nueva_imagen = im.resize((16, 16))\n",
    "      imagenes.append(nueva_imagen)"
   ]
  },
  {
   "cell_type": "markdown",
   "metadata": {},
   "source": [
    "&ensp; Luego, se verifica que estén todas las imágenes almacenadas en la lista. Para esto, se debe tener en cuenta que son $24.998$ imagenes que estarán almacenadas como una matriz de $16 \\times 16$ pixeles."
   ]
  },
  {
   "cell_type": "code",
   "execution_count": 162,
   "metadata": {},
   "outputs": [
    {
     "data": {
      "text/plain": [
       "(24998, 16, 16)"
      ]
     },
     "metadata": {},
     "output_type": "display_data"
    }
   ],
   "source": [
    "display(np.array(imagenes).shape)"
   ]
  },
  {
   "cell_type": "markdown",
   "metadata": {},
   "source": [
    "**3. Mostrar $5$ imágenes.**\n",
    "\n",
    "&ensp; Una vez se tienen todas las imagenes almacenadas, se obtienen $5$ aleatorias y se las grafica a fin de analizar que el código esté funcionando correctamente. Cabe destacar que se utiliza la función $\\texttt{imshow}$ porque $\\texttt{display}$ las imprime en el tamaño original de $16 \\times 16$. Además, es por el tamaño mismo que se ven pixeleadas."
   ]
  },
  {
   "cell_type": "code",
   "execution_count": null,
   "metadata": {
    "colab": {
     "base_uri": "https://localhost:8080/",
     "height": 104
    },
    "executionInfo": {
     "elapsed": 38,
     "status": "ok",
     "timestamp": 1743952181024,
     "user": {
      "displayName": "Felipe Perassi",
      "userId": "05823434124223766793"
     },
     "user_tz": 180
    },
    "id": "66VRNLB3tSv6",
    "outputId": "90a66fa0-dd33-4b3a-a243-aaf42d8ff3ef"
   },
   "outputs": [
    {
     "data": {
      "image/png": "[encoded data removed]",
      "text/plain": [
       "<Figure size 1500x500 with 5 Axes>"
      ]
     },
     "metadata": {},
     "output_type": "display_data"
    }
   ],
   "source": [
    "random_nums = len(imagenes) * np.random.rand(5)\n",
    "random_nums = random_nums.astype(int) #Convertir a enteros\n",
    "\n",
    "fig, axes = plt.subplots(1, 5, figsize=(15, 5))\n",
    "for i, ax in enumerate(axes):\n",
    "    ax.imshow(imagenes[random_nums[i]], cmap='gray')\n",
    "    ax.axis('off')\n",
    "plt.tight_layout()\n",
    "plt.show()"
   ]
  },
  {
   "cell_type": "markdown",
   "metadata": {},
   "source": [
    "**4. Utilice el comando $\\texttt{train\\_test\\_split}$ (sklearn) para definir dos conjuntos de datos. El conjunto de entrenamiento debe contener $20000$ muestras, el resto serán de testeo.**\n",
    "\n",
    "&ensp; La variable `imagenes` es transformada mediante la función $\\texttt{flatten}$, que convierte cada imagen de $16 \\times 16$ píxeles en un vector fila de $256$ elementos, dando lugar a la matriz `X_data`, donde cada fila representa una imagen. A su vez, se construye el vector de salidas `Y_data`, asignando un valor de $1$ a las imágenes correspondientes a perros y un valor de $0$ a las de gatos."
   ]
  },
  {
   "cell_type": "code",
   "execution_count": 169,
   "metadata": {
    "executionInfo": {
     "elapsed": 407,
     "status": "ok",
     "timestamp": 1743952181432,
     "user": {
      "displayName": "Felipe Perassi",
      "userId": "05823434124223766793"
     },
     "user_tz": 180
    },
    "id": "Erbg9BK4PSLk"
   },
   "outputs": [],
   "source": [
    "X_data = np.array([np.array(im).flatten() for im in imagenes])\n",
    "\n",
    "Y_data = []\n",
    "for i in range(0, len(imagenes)):\n",
    "    if (i < len(imagenes) / 2):\n",
    "      Y_data.append(1)\n",
    "    else:\n",
    "      Y_data.append(0)\n",
    "\n",
    "Y_data = np.array(Y_data)\n"
   ]
  },
  {
   "cell_type": "markdown",
   "metadata": {},
   "source": [
    "&ensp; Se verifica que ambas variables tengan la dimensión esperada."
   ]
  },
  {
   "cell_type": "code",
   "execution_count": 170,
   "metadata": {},
   "outputs": [
    {
     "data": {
      "text/plain": [
       "(24998, 256)"
      ]
     },
     "metadata": {},
     "output_type": "display_data"
    },
    {
     "data": {
      "text/plain": [
       "(24998,)"
      ]
     },
     "metadata": {},
     "output_type": "display_data"
    }
   ],
   "source": [
    "display(X_data.shape)\n",
    "display(Y_data.shape)"
   ]
  },
  {
   "cell_type": "markdown",
   "metadata": {},
   "source": [
    "&ensp;  Finalmente, ambas variables son utilizadas como entrada de la función $\\texttt{train\\_test\\_split}$, que permite dividir el conjunto de datos en subconjuntos de entrenamiento y prueba, según el tamaño especificado que en este caso es de $20.000$ para el entrenamiento y lo restante para el testeo."
   ]
  },
  {
   "cell_type": "code",
   "execution_count": 171,
   "metadata": {
    "executionInfo": {
     "elapsed": 180,
     "status": "ok",
     "timestamp": 1743952181632,
     "user": {
      "displayName": "Felipe Perassi",
      "userId": "05823434124223766793"
     },
     "user_tz": 180
    },
    "id": "OBTtSQa6F4NT"
   },
   "outputs": [],
   "source": [
    "from sklearn.model_selection import train_test_split\n",
    "\n",
    "X_train, X_test, Y_train, Y_test = train_test_split(X_data, Y_data, train_size = 20000)"
   ]
  },
  {
   "cell_type": "markdown",
   "metadata": {},
   "source": [
    "---"
   ]
  },
  {
   "cell_type": "markdown",
   "metadata": {},
   "source": [
    "#### (C). *Clasificación:*"
   ]
  },
  {
   "cell_type": "markdown",
   "metadata": {},
   "source": [
    "**1. Utilizando $\\texttt{LogisticRegression}$ (sklearn), realizar una regresión logística sin regularización.**\n",
    "\n",
    "&ensp; En base a los conjuntos de datos separados en la etapa del pre-procesamiento para el entrenamiento, se realiza y se entrena una regresión logística sin regularización a partir de la función dada por la cátedra."
   ]
  },
  {
   "cell_type": "code",
   "execution_count": 135,
   "metadata": {
    "colab": {
     "base_uri": "https://localhost:8080/",
     "height": 80
    },
    "executionInfo": {
     "elapsed": 31566,
     "status": "ok",
     "timestamp": 1743952213200,
     "user": {
      "displayName": "Felipe Perassi",
      "userId": "05823434124223766793"
     },
     "user_tz": 180
    },
    "id": "y9bW_K-KJkf2",
    "outputId": "551e66aa-b9d3-47dc-a161-bfd2464b39e1"
   },
   "outputs": [
    {
     "data": {
      "text/html": [
       "<style>#sk-container-id-7 {\n",
       "  /* Definition of color scheme common for light and dark mode */\n",
       "  --sklearn-color-text: #000;\n",
       "  --sklearn-color-text-muted: #666;\n",
       "  --sklearn-color-line: gray;\n",
       "  /* Definition of color scheme for unfitted estimators */\n",
       "  --sklearn-color-unfitted-level-0: #fff5e6;\n",
       "  --sklearn-color-unfitted-level-1: #f6e4d2;\n",
       "  --sklearn-color-unfitted-level-2: #ffe0b3;\n",
       "  --sklearn-color-unfitted-level-3: chocolate;\n",
       "  /* Definition of color scheme for fitted estimators */\n",
       "  --sklearn-color-fitted-level-0: #f0f8ff;\n",
       "  --sklearn-color-fitted-level-1: #d4ebff;\n",
       "  --sklearn-color-fitted-level-2: #b3dbfd;\n",
       "  --sklearn-color-fitted-level-3: cornflowerblue;\n",
       "\n",
       "  /* Specific color for light theme */\n",
       "  --sklearn-color-text-on-default-background: var(--sg-text-color, var(--theme-code-foreground, var(--jp-content-font-color1, black)));\n",
       "  --sklearn-color-background: var(--sg-background-color, var(--theme-background, var(--jp-layout-color0, white)));\n",
       "  --sklearn-color-border-box: var(--sg-text-color, var(--theme-code-foreground, var(--jp-content-font-color1, black)));\n",
       "  --sklearn-color-icon: #696969;\n",
       "\n",
       "  @media (prefers-color-scheme: dark) {\n",
       "    /* Redefinition of color scheme for dark theme */\n",
       "    --sklearn-color-text-on-default-background: var(--sg-text-color, var(--theme-code-foreground, var(--jp-content-font-color1, white)));\n",
       "    --sklearn-color-background: var(--sg-background-color, var(--theme-background, var(--jp-layout-color0, #111)));\n",
       "    --sklearn-color-border-box: var(--sg-text-color, var(--theme-code-foreground, var(--jp-content-font-color1, white)));\n",
       "    --sklearn-color-icon: #878787;\n",
       "  }\n",
       "}\n",
       "\n",
       "#sk-container-id-7 {\n",
       "  color: var(--sklearn-color-text);\n",
       "}\n",
       "\n",
       "#sk-container-id-7 pre {\n",
       "  padding: 0;\n",
       "}\n",
       "\n",
       "#sk-container-id-7 input.sk-hidden--visually {\n",
       "  border: 0;\n",
       "  clip: rect(1px 1px 1px 1px);\n",
       "  clip: rect(1px, 1px, 1px, 1px);\n",
       "  height: 1px;\n",
       "  margin: -1px;\n",
       "  overflow: hidden;\n",
       "  padding: 0;\n",
       "  position: absolute;\n",
       "  width: 1px;\n",
       "}\n",
       "\n",
       "#sk-container-id-7 div.sk-dashed-wrapped {\n",
       "  border: 1px dashed var(--sklearn-color-line);\n",
       "  margin: 0 0.4em 0.5em 0.4em;\n",
       "  box-sizing: border-box;\n",
       "  padding-bottom: 0.4em;\n",
       "  background-color: var(--sklearn-color-background);\n",
       "}\n",
       "\n",
       "#sk-container-id-7 div.sk-container {\n",
       "  /* jupyter's `normalize.less` sets `[hidden] { display: none; }`\n",
       "     but bootstrap.min.css set `[hidden] { display: none !important; }`\n",
       "     so we also need the `!important` here to be able to override the\n",
       "     default hidden behavior on the sphinx rendered scikit-learn.org.\n",
       "     See: https://github.com/scikit-learn/scikit-learn/issues/21755 */\n",
       "  display: inline-block !important;\n",
       "  position: relative;\n",
       "}\n",
       "\n",
       "#sk-container-id-7 div.sk-text-repr-fallback {\n",
       "  display: none;\n",
       "}\n",
       "\n",
       "div.sk-parallel-item,\n",
       "div.sk-serial,\n",
       "div.sk-item {\n",
       "  /* draw centered vertical line to link estimators */\n",
       "  background-image: linear-gradient(var(--sklearn-color-text-on-default-background), var(--sklearn-color-text-on-default-background));\n",
       "  background-size: 2px 100%;\n",
       "  background-repeat: no-repeat;\n",
       "  background-position: center center;\n",
       "}\n",
       "\n",
       "/* Parallel-specific style estimator block */\n",
       "\n",
       "#sk-container-id-7 div.sk-parallel-item::after {\n",
       "  content: \"\";\n",
       "  width: 100%;\n",
       "  border-bottom: 2px solid var(--sklearn-color-text-on-default-background);\n",
       "  flex-grow: 1;\n",
       "}\n",
       "\n",
       "#sk-container-id-7 div.sk-parallel {\n",
       "  display: flex;\n",
       "  align-items: stretch;\n",
       "  justify-content: center;\n",
       "  background-color: var(--sklearn-color-background);\n",
       "  position: relative;\n",
       "}\n",
       "\n",
       "#sk-container-id-7 div.sk-parallel-item {\n",
       "  display: flex;\n",
       "  flex-direction: column;\n",
       "}\n",
       "\n",
       "#sk-container-id-7 div.sk-parallel-item:first-child::after {\n",
       "  align-self: flex-end;\n",
       "  width: 50%;\n",
       "}\n",
       "\n",
       "#sk-container-id-7 div.sk-parallel-item:last-child::after {\n",
       "  align-self: flex-start;\n",
       "  width: 50%;\n",
       "}\n",
       "\n",
       "#sk-container-id-7 div.sk-parallel-item:only-child::after {\n",
       "  width: 0;\n",
       "}\n",
       "\n",
       "/* Serial-specific style estimator block */\n",
       "\n",
       "#sk-container-id-7 div.sk-serial {\n",
       "  display: flex;\n",
       "  flex-direction: column;\n",
       "  align-items: center;\n",
       "  background-color: var(--sklearn-color-background);\n",
       "  padding-right: 1em;\n",
       "  padding-left: 1em;\n",
       "}\n",
       "\n",
       "\n",
       "/* Toggleable style: style used for estimator/Pipeline/ColumnTransformer box that is\n",
       "clickable and can be expanded/collapsed.\n",
       "- Pipeline and ColumnTransformer use this feature and define the default style\n",
       "- Estimators will overwrite some part of the style using the `sk-estimator` class\n",
       "*/\n",
       "\n",
       "/* Pipeline and ColumnTransformer style (default) */\n",
       "\n",
       "#sk-container-id-7 div.sk-toggleable {\n",
       "  /* Default theme specific background. It is overwritten whether we have a\n",
       "  specific estimator or a Pipeline/ColumnTransformer */\n",
       "  background-color: var(--sklearn-color-background);\n",
       "}\n",
       "\n",
       "/* Toggleable label */\n",
       "#sk-container-id-7 label.sk-toggleable__label {\n",
       "  cursor: pointer;\n",
       "  display: flex;\n",
       "  width: 100%;\n",
       "  margin-bottom: 0;\n",
       "  padding: 0.5em;\n",
       "  box-sizing: border-box;\n",
       "  text-align: center;\n",
       "  align-items: start;\n",
       "  justify-content: space-between;\n",
       "  gap: 0.5em;\n",
       "}\n",
       "\n",
       "#sk-container-id-7 label.sk-toggleable__label .caption {\n",
       "  font-size: 0.6rem;\n",
       "  font-weight: lighter;\n",
       "  color: var(--sklearn-color-text-muted);\n",
       "}\n",
       "\n",
       "#sk-container-id-7 label.sk-toggleable__label-arrow:before {\n",
       "  /* Arrow on the left of the label */\n",
       "  content: \"▸\";\n",
       "  float: left;\n",
       "  margin-right: 0.25em;\n",
       "  color: var(--sklearn-color-icon);\n",
       "}\n",
       "\n",
       "#sk-container-id-7 label.sk-toggleable__label-arrow:hover:before {\n",
       "  color: var(--sklearn-color-text);\n",
       "}\n",
       "\n",
       "/* Toggleable content - dropdown */\n",
       "\n",
       "#sk-container-id-7 div.sk-toggleable__content {\n",
       "  max-height: 0;\n",
       "  max-width: 0;\n",
       "  overflow: hidden;\n",
       "  text-align: left;\n",
       "  /* unfitted */\n",
       "  background-color: var(--sklearn-color-unfitted-level-0);\n",
       "}\n",
       "\n",
       "#sk-container-id-7 div.sk-toggleable__content.fitted {\n",
       "  /* fitted */\n",
       "  background-color: var(--sklearn-color-fitted-level-0);\n",
       "}\n",
       "\n",
       "#sk-container-id-7 div.sk-toggleable__content pre {\n",
       "  margin: 0.2em;\n",
       "  border-radius: 0.25em;\n",
       "  color: var(--sklearn-color-text);\n",
       "  /* unfitted */\n",
       "  background-color: var(--sklearn-color-unfitted-level-0);\n",
       "}\n",
       "\n",
       "#sk-container-id-7 div.sk-toggleable__content.fitted pre {\n",
       "  /* unfitted */\n",
       "  background-color: var(--sklearn-color-fitted-level-0);\n",
       "}\n",
       "\n",
       "#sk-container-id-7 input.sk-toggleable__control:checked~div.sk-toggleable__content {\n",
       "  /* Expand drop-down */\n",
       "  max-height: 200px;\n",
       "  max-width: 100%;\n",
       "  overflow: auto;\n",
       "}\n",
       "\n",
       "#sk-container-id-7 input.sk-toggleable__control:checked~label.sk-toggleable__label-arrow:before {\n",
       "  content: \"▾\";\n",
       "}\n",
       "\n",
       "/* Pipeline/ColumnTransformer-specific style */\n",
       "\n",
       "#sk-container-id-7 div.sk-label input.sk-toggleable__control:checked~label.sk-toggleable__label {\n",
       "  color: var(--sklearn-color-text);\n",
       "  background-color: var(--sklearn-color-unfitted-level-2);\n",
       "}\n",
       "\n",
       "#sk-container-id-7 div.sk-label.fitted input.sk-toggleable__control:checked~label.sk-toggleable__label {\n",
       "  background-color: var(--sklearn-color-fitted-level-2);\n",
       "}\n",
       "\n",
       "/* Estimator-specific style */\n",
       "\n",
       "/* Colorize estimator box */\n",
       "#sk-container-id-7 div.sk-estimator input.sk-toggleable__control:checked~label.sk-toggleable__label {\n",
       "  /* unfitted */\n",
       "  background-color: var(--sklearn-color-unfitted-level-2);\n",
       "}\n",
       "\n",
       "#sk-container-id-7 div.sk-estimator.fitted input.sk-toggleable__control:checked~label.sk-toggleable__label {\n",
       "  /* fitted */\n",
       "  background-color: var(--sklearn-color-fitted-level-2);\n",
       "}\n",
       "\n",
       "#sk-container-id-7 div.sk-label label.sk-toggleable__label,\n",
       "#sk-container-id-7 div.sk-label label {\n",
       "  /* The background is the default theme color */\n",
       "  color: var(--sklearn-color-text-on-default-background);\n",
       "}\n",
       "\n",
       "/* On hover, darken the color of the background */\n",
       "#sk-container-id-7 div.sk-label:hover label.sk-toggleable__label {\n",
       "  color: var(--sklearn-color-text);\n",
       "  background-color: var(--sklearn-color-unfitted-level-2);\n",
       "}\n",
       "\n",
       "/* Label box, darken color on hover, fitted */\n",
       "#sk-container-id-7 div.sk-label.fitted:hover label.sk-toggleable__label.fitted {\n",
       "  color: var(--sklearn-color-text);\n",
       "  background-color: var(--sklearn-color-fitted-level-2);\n",
       "}\n",
       "\n",
       "/* Estimator label */\n",
       "\n",
       "#sk-container-id-7 div.sk-label label {\n",
       "  font-family: monospace;\n",
       "  font-weight: bold;\n",
       "  display: inline-block;\n",
       "  line-height: 1.2em;\n",
       "}\n",
       "\n",
       "#sk-container-id-7 div.sk-label-container {\n",
       "  text-align: center;\n",
       "}\n",
       "\n",
       "/* Estimator-specific */\n",
       "#sk-container-id-7 div.sk-estimator {\n",
       "  font-family: monospace;\n",
       "  border: 1px dotted var(--sklearn-color-border-box);\n",
       "  border-radius: 0.25em;\n",
       "  box-sizing: border-box;\n",
       "  margin-bottom: 0.5em;\n",
       "  /* unfitted */\n",
       "  background-color: var(--sklearn-color-unfitted-level-0);\n",
       "}\n",
       "\n",
       "#sk-container-id-7 div.sk-estimator.fitted {\n",
       "  /* fitted */\n",
       "  background-color: var(--sklearn-color-fitted-level-0);\n",
       "}\n",
       "\n",
       "/* on hover */\n",
       "#sk-container-id-7 div.sk-estimator:hover {\n",
       "  /* unfitted */\n",
       "  background-color: var(--sklearn-color-unfitted-level-2);\n",
       "}\n",
       "\n",
       "#sk-container-id-7 div.sk-estimator.fitted:hover {\n",
       "  /* fitted */\n",
       "  background-color: var(--sklearn-color-fitted-level-2);\n",
       "}\n",
       "\n",
       "/* Specification for estimator info (e.g. \"i\" and \"?\") */\n",
       "\n",
       "/* Common style for \"i\" and \"?\" */\n",
       "\n",
       ".sk-estimator-doc-link,\n",
       "a:link.sk-estimator-doc-link,\n",
       "a:visited.sk-estimator-doc-link {\n",
       "  float: right;\n",
       "  font-size: smaller;\n",
       "  line-height: 1em;\n",
       "  font-family: monospace;\n",
       "  background-color: var(--sklearn-color-background);\n",
       "  border-radius: 1em;\n",
       "  height: 1em;\n",
       "  width: 1em;\n",
       "  text-decoration: none !important;\n",
       "  margin-left: 0.5em;\n",
       "  text-align: center;\n",
       "  /* unfitted */\n",
       "  border: var(--sklearn-color-unfitted-level-1) 1pt solid;\n",
       "  color: var(--sklearn-color-unfitted-level-1);\n",
       "}\n",
       "\n",
       ".sk-estimator-doc-link.fitted,\n",
       "a:link.sk-estimator-doc-link.fitted,\n",
       "a:visited.sk-estimator-doc-link.fitted {\n",
       "  /* fitted */\n",
       "  border: var(--sklearn-color-fitted-level-1) 1pt solid;\n",
       "  color: var(--sklearn-color-fitted-level-1);\n",
       "}\n",
       "\n",
       "/* On hover */\n",
       "div.sk-estimator:hover .sk-estimator-doc-link:hover,\n",
       ".sk-estimator-doc-link:hover,\n",
       "div.sk-label-container:hover .sk-estimator-doc-link:hover,\n",
       ".sk-estimator-doc-link:hover {\n",
       "  /* unfitted */\n",
       "  background-color: var(--sklearn-color-unfitted-level-3);\n",
       "  color: var(--sklearn-color-background);\n",
       "  text-decoration: none;\n",
       "}\n",
       "\n",
       "div.sk-estimator.fitted:hover .sk-estimator-doc-link.fitted:hover,\n",
       ".sk-estimator-doc-link.fitted:hover,\n",
       "div.sk-label-container:hover .sk-estimator-doc-link.fitted:hover,\n",
       ".sk-estimator-doc-link.fitted:hover {\n",
       "  /* fitted */\n",
       "  background-color: var(--sklearn-color-fitted-level-3);\n",
       "  color: var(--sklearn-color-background);\n",
       "  text-decoration: none;\n",
       "}\n",
       "\n",
       "/* Span, style for the box shown on hovering the info icon */\n",
       ".sk-estimator-doc-link span {\n",
       "  display: none;\n",
       "  z-index: 9999;\n",
       "  position: relative;\n",
       "  font-weight: normal;\n",
       "  right: .2ex;\n",
       "  padding: .5ex;\n",
       "  margin: .5ex;\n",
       "  width: min-content;\n",
       "  min-width: 20ex;\n",
       "  max-width: 50ex;\n",
       "  color: var(--sklearn-color-text);\n",
       "  box-shadow: 2pt 2pt 4pt #999;\n",
       "  /* unfitted */\n",
       "  background: var(--sklearn-color-unfitted-level-0);\n",
       "  border: .5pt solid var(--sklearn-color-unfitted-level-3);\n",
       "}\n",
       "\n",
       ".sk-estimator-doc-link.fitted span {\n",
       "  /* fitted */\n",
       "  background: var(--sklearn-color-fitted-level-0);\n",
       "  border: var(--sklearn-color-fitted-level-3);\n",
       "}\n",
       "\n",
       ".sk-estimator-doc-link:hover span {\n",
       "  display: block;\n",
       "}\n",
       "\n",
       "/* \"?\"-specific style due to the `<a>` HTML tag */\n",
       "\n",
       "#sk-container-id-7 a.estimator_doc_link {\n",
       "  float: right;\n",
       "  font-size: 1rem;\n",
       "  line-height: 1em;\n",
       "  font-family: monospace;\n",
       "  background-color: var(--sklearn-color-background);\n",
       "  border-radius: 1rem;\n",
       "  height: 1rem;\n",
       "  width: 1rem;\n",
       "  text-decoration: none;\n",
       "  /* unfitted */\n",
       "  color: var(--sklearn-color-unfitted-level-1);\n",
       "  border: var(--sklearn-color-unfitted-level-1) 1pt solid;\n",
       "}\n",
       "\n",
       "#sk-container-id-7 a.estimator_doc_link.fitted {\n",
       "  /* fitted */\n",
       "  border: var(--sklearn-color-fitted-level-1) 1pt solid;\n",
       "  color: var(--sklearn-color-fitted-level-1);\n",
       "}\n",
       "\n",
       "/* On hover */\n",
       "#sk-container-id-7 a.estimator_doc_link:hover {\n",
       "  /* unfitted */\n",
       "  background-color: var(--sklearn-color-unfitted-level-3);\n",
       "  color: var(--sklearn-color-background);\n",
       "  text-decoration: none;\n",
       "}\n",
       "\n",
       "#sk-container-id-7 a.estimator_doc_link.fitted:hover {\n",
       "  /* fitted */\n",
       "  background-color: var(--sklearn-color-fitted-level-3);\n",
       "}\n",
       "</style><div id=\"sk-container-id-7\" class=\"sk-top-container\"><div class=\"sk-text-repr-fallback\"><pre>LogisticRegression(max_iter=10000, penalty=None)</pre><b>In a Jupyter environment, please rerun this cell to show the HTML representation or trust the notebook. <br />On GitHub, the HTML representation is unable to render, please try loading this page with nbviewer.org.</b></div><div class=\"sk-container\" hidden><div class=\"sk-item\"><div class=\"sk-estimator fitted sk-toggleable\"><input class=\"sk-toggleable__control sk-hidden--visually\" id=\"sk-estimator-id-10\" type=\"checkbox\" checked><label for=\"sk-estimator-id-10\" class=\"sk-toggleable__label fitted sk-toggleable__label-arrow\"><div><div>LogisticRegression</div></div><div><a class=\"sk-estimator-doc-link fitted\" rel=\"noreferrer\" target=\"_blank\" href=\"https://scikit-learn.org/1.6/modules/generated/sklearn.linear_model.LogisticRegression.html\">?<span>Documentation for LogisticRegression</span></a><span class=\"sk-estimator-doc-link fitted\">i<span>Fitted</span></span></div></label><div class=\"sk-toggleable__content fitted\"><pre>LogisticRegression(max_iter=10000, penalty=None)</pre></div> </div></div></div></div>"
      ],
      "text/plain": [
       "LogisticRegression(max_iter=10000, penalty=None)"
      ]
     },
     "execution_count": 135,
     "metadata": {},
     "output_type": "execute_result"
    }
   ],
   "source": [
    "from sklearn.linear_model import LogisticRegression\n",
    "\n",
    "Log_Reg = LogisticRegression(penalty = None, max_iter = 10000)\n",
    "Log_Reg.fit(X_train, Y_train)"
   ]
  },
  {
   "cell_type": "markdown",
   "metadata": {},
   "source": [
    "**2. Implementar una función que permita calcular la accuracy a partir de la salida de predict. Reportar el accuracy de entrenamiento y testeo.**\n",
    "\n",
    "&ensp; Se implementa la función `accuracy`, que permite calcular la precisión que tiene el modelo comparando la predicción con el valor real. Además, se generaliza el modelo que se le puede pasar para poder reutilizarla en puntos posteriores del trabajo."
   ]
  },
  {
   "cell_type": "code",
   "execution_count": 136,
   "metadata": {
    "executionInfo": {
     "elapsed": 4,
     "status": "ok",
     "timestamp": 1743952213238,
     "user": {
      "displayName": "Felipe Perassi",
      "userId": "05823434124223766793"
     },
     "user_tz": 180
    },
    "id": "-4PRCkOLRX0a"
   },
   "outputs": [],
   "source": [
    "def accuracy(X, Y, model):\n",
    "  Y_pred = model.predict(X)\n",
    "  return np.sum(Y == Y_pred) / len(Y)"
   ]
  },
  {
   "cell_type": "markdown",
   "metadata": {},
   "source": [
    "&ensp; De esta manera, se obtienen los siguientes resultados."
   ]
  },
  {
   "cell_type": "code",
   "execution_count": 178,
   "metadata": {
    "colab": {
     "base_uri": "https://localhost:8080/"
    },
    "executionInfo": {
     "elapsed": 18,
     "status": "ok",
     "timestamp": 1743952213258,
     "user": {
      "displayName": "Felipe Perassi",
      "userId": "05823434124223766793"
     },
     "user_tz": 180
    },
    "id": "T9nCzqe0U9Tt",
    "outputId": "b1371d2a-adbf-4e1c-a8c3-713ea097324c"
   },
   "outputs": [
    {
     "name": "stdout",
     "output_type": "stream",
     "text": [
      "Training Accuracy: 0.5821\n",
      "Test Accuracy: 0.5824\n"
     ]
    }
   ],
   "source": [
    "accuracy_train = accuracy(X_train, Y_train, Log_Reg)\n",
    "accuracy_test = accuracy(X_test, Y_test, Log_Reg)\n",
    "print(f\"Training Accuracy: {accuracy_train:.4f}\")\n",
    "print(f\"Test Accuracy: {accuracy_test:.4f}\")"
   ]
  },
  {
   "cell_type": "markdown",
   "metadata": {},
   "source": [
    "**3. Implementar una función que permita calcular la cross-entropy a partir de la salida de $\\texttt{predict\\_log\\_proba}$. Reportar la cross-entropy de entrenamiento y testeo.**"
   ]
  },
  {
   "cell_type": "markdown",
   "metadata": {},
   "source": [
    "&ensp; Considerando la expresión de la *cross-entropy*:\n",
    "\n",
    "$$ E[-\\log \\hat{P}(Y \\mid X)] = -\\frac{1}{n} \\sum_{i=1}^{n} \\left[ Y_i \\log \\hat{P}(Y_i = 1 \\mid X_i) + (1 - Y_i) \\log \\hat{P}(Y_i = 0 \\mid X_i) \\right]$$\n",
    "\n",
    "&ensp; Y entendiendo que el valor obtenido a partir de la función $\\texttt{predict\\_log\\_proba}$ es el logaritmo de la probabilidad condicional, se desarrolla la función que se ve a continuación. Siendo $ \\hat{P}(Y_i = 1 \\mid X_i) $ la probabilidad de que la salida sea perro y $\\hat{P}(Y_i = 0 \\mid X_i)$ la de que sea gato."
   ]
  },
  {
   "cell_type": "code",
   "execution_count": 179,
   "metadata": {
    "executionInfo": {
     "elapsed": 6,
     "status": "ok",
     "timestamp": 1743954073226,
     "user": {
      "displayName": "Felipe Perassi",
      "userId": "05823434124223766793"
     },
     "user_tz": 180
    },
    "id": "plYFi_r7VDrf"
   },
   "outputs": [],
   "source": [
    "def cross_entropy(X, Y, model):\n",
    "  Y_log = model.predict_log_proba(X)\n",
    "  return -np.sum(Y * Y_log[:, 1] + (1 - Y) * Y_log[:, 0]) / len(Y)"
   ]
  },
  {
   "cell_type": "markdown",
   "metadata": {},
   "source": [
    "&ensp; Así, se obtienen los siguientes resultados."
   ]
  },
  {
   "cell_type": "code",
   "execution_count": 180,
   "metadata": {
    "colab": {
     "base_uri": "https://localhost:8080/"
    },
    "executionInfo": {
     "elapsed": 122,
     "status": "ok",
     "timestamp": 1743954079702,
     "user": {
      "displayName": "Felipe Perassi",
      "userId": "05823434124223766793"
     },
     "user_tz": 180
    },
    "id": "NUiIIq5DbsfI",
    "outputId": "60338f0f-f224-4c37-ff6e-ea423952cd7a"
   },
   "outputs": [
    {
     "name": "stdout",
     "output_type": "stream",
     "text": [
      "Training Cross-Entropy: 0.6747\n",
      "Test Cross-Entropy: 0.6766\n"
     ]
    }
   ],
   "source": [
    "cross_entropy_train = cross_entropy(X_train, Y_train, Log_Reg)\n",
    "cross_entropy_test = cross_entropy(X_test, Y_test, Log_Reg)\n",
    "\n",
    "print(f\"Training Cross-Entropy: {cross_entropy_train:.4f}\")\n",
    "print(f\"Test Cross-Entropy: {cross_entropy_test:.4f}\")"
   ]
  },
  {
   "cell_type": "markdown",
   "metadata": {},
   "source": [
    "**4. Crear una imagen de $16 \\times 16$ a partir del consejero de la guía y clasificarlo.**"
   ]
  },
  {
   "cell_type": "markdown",
   "metadata": {},
   "source": [
    "&ensp; A fin de clasificar al consejero, se descarga su imagen desde la URL de Github utilizando la librería `Requests` y se abre con la función $\\texttt{Image.open}$. Luego, la imagen se convierte a escala de grises ('L'), se redimensiona a un tamaño de $16 \\times 16$ píxeles y se la muestra."
   ]
  },
  {
   "cell_type": "code",
   "execution_count": 207,
   "metadata": {
    "colab": {
     "base_uri": "https://localhost:8080/",
     "height": 34
    },
    "executionInfo": {
     "elapsed": 122,
     "status": "ok",
     "timestamp": 1743952213574,
     "user": {
      "displayName": "Felipe Perassi",
      "userId": "05823434124223766793"
     },
     "user_tz": 180
    },
    "id": "MhyaM_fjbyPV",
    "outputId": "fabd5e37-c9ff-4885-b6e5-7576281ae0ae"
   },
   "outputs": [
    {
     "data": {
      "image/png": "[encoded data removed]",
      "text/plain": [
       "<Figure size 300x300 with 1 Axes>"
      ]
     },
     "metadata": {},
     "output_type": "display_data"
    }
   ],
   "source": [
    "import requests\n",
    "\n",
    "ruta_consejero = 'https://raw.githubusercontent.com/mvera1412/TA136-TB056-TB057-8625/refs/heads/main/data/consejero.png'\n",
    "consejero = Image.open(requests.get(ruta_consejero, stream = True).raw)\n",
    "consejero = consejero.convert('L').resize((16, 16))\n",
    "plt.figure(figsize=(3, 3))\n",
    "plt.imshow(consejero, cmap='gray')\n",
    "plt.axis('off')\n",
    "plt.show()"
   ]
  },
  {
   "cell_type": "markdown",
   "metadata": {},
   "source": [
    "&ensp; Se setea la `X_consejero` para utilizar las funciones de la librería `SK Learn`."
   ]
  },
  {
   "cell_type": "code",
   "execution_count": 183,
   "metadata": {
    "colab": {
     "base_uri": "https://localhost:8080/"
    },
    "executionInfo": {
     "elapsed": 14,
     "status": "ok",
     "timestamp": 1743952213588,
     "user": {
      "displayName": "Felipe Perassi",
      "userId": "05823434124223766793"
     },
     "user_tz": 180
    },
    "id": "bY7nQtPNphML",
    "outputId": "4cc47aa0-222d-4c6c-a6d9-8cafa7bda7e9"
   },
   "outputs": [
    {
     "data": {
      "text/plain": [
       "(1, 256)"
      ]
     },
     "metadata": {},
     "output_type": "display_data"
    }
   ],
   "source": [
    "X_consejero = np.array(consejero).flatten().reshape(1, -1)\n",
    "display(X_consejero.shape)"
   ]
  },
  {
   "cell_type": "markdown",
   "metadata": {},
   "source": [
    "&ensp; De esta manera, se utiliza el modelo entrenado de regresión logística (`Log_Reg`) para clasificar la imagen del consejero previamente procesada. Primero, con el método predict, se obtiene una predicción \"dura\", es decir, una etiqueta binaria que indica si la imagen corresponde a un perro o a un gato. Luego, con el método predict_proba, se obtienen las probabilidades estimadas de pertenecer a cada clase, mostrando tanto la probabilidad de que la imagen sea un perro como de que sea un gato."
   ]
  },
  {
   "cell_type": "code",
   "execution_count": 190,
   "metadata": {},
   "outputs": [
    {
     "name": "stdout",
     "output_type": "stream",
     "text": [
      "El consejero es un perro\n",
      "Probabilidad de que sea un perro: 0.5531\n",
      "Probabilidad de que sea un gato: 0.4469\n"
     ]
    }
   ],
   "source": [
    "Y_hard_consejero = Log_Reg.predict(X_consejero)\n",
    "if Y_hard_consejero == 1:\n",
    "    print(\"El consejero es un perro\")\n",
    "else:   \n",
    "    print(\"El consejero es un gato\")\n",
    "\n",
    "Y_soft_consejero = Log_Reg.predict_proba(X_consejero)\n",
    "print(f\"Probabilidad de que sea un perro: {Y_soft_consejero[0][1]:.4f}\")\n",
    "print(f\"Probabilidad de que sea un gato: {Y_soft_consejero[0][0]:.4f}\")"
   ]
  },
  {
   "cell_type": "markdown",
   "metadata": {},
   "source": [
    "---"
   ]
  },
  {
   "cell_type": "markdown",
   "metadata": {},
   "source": [
    "#### (D). *Regularización:*"
   ]
  },
  {
   "cell_type": "markdown",
   "metadata": {},
   "source": [
    "**Utilice un mapa polinómico de orden $2$ y un término de penalización para regularizar el problema. Indicar el accuracy tanto para el entrenamiento como el testeo.**\n",
    "\n",
    "&ensp; En esta sección se evalúa el rendimiento de un modelo de regresión logística con regularización $L_2$, variando el parámetro de penalización $C = \\frac{1}{\\lambda}$ en una escala logarítmica. Para ello, se utiliza $\\texttt{Pipeline}$ que primero realiza una transformación polinómica de orden $2$ con $\\texttt{PolynomialFeatures}$, luego aplica una normalización $\\texttt{StandardScaler}$, y finalmente entrena el modelo de regresión logística con los parámetros especificados.\n",
    "\n",
    "&ensp; Se debe tener en cuenta que para cada valor de $C$, se entrena el modelo utilizando los datos de entrenamiento `X_train` e `Y_train` y se registran la *accuracy* y la *cross-entropy* tanto en el conjunto de entrenamiento como en el de prueba. Estas métricas se almacenan, permitiendo luego elegir el hiperparámetro con menor error de validación."
   ]
  },
  {
   "cell_type": "code",
   "execution_count": null,
   "metadata": {
    "id": "BzUH41mOtvgg"
   },
   "outputs": [
    {
     "name": "stderr",
     "output_type": "stream",
     "text": [
      "C:\\Users\\Usuario\\AppData\\Local\\Packages\\PythonSoftwareFoundation.Python.3.11_qbz5n2kfra8p0\\LocalCache\\local-packages\\Python311\\site-packages\\sklearn\\linear_model\\_logistic.py:465: ConvergenceWarning: lbfgs failed to converge (status=1):\n",
      "STOP: TOTAL NO. OF ITERATIONS REACHED LIMIT.\n",
      "\n",
      "Increase the number of iterations (max_iter) or scale the data as shown in:\n",
      "    https://scikit-learn.org/stable/modules/preprocessing.html\n",
      "Please also refer to the documentation for alternative solver options:\n",
      "    https://scikit-learn.org/stable/modules/linear_model.html#logistic-regression\n",
      "  n_iter_i = _check_optimize_result(\n",
      "C:\\Users\\Usuario\\AppData\\Local\\Packages\\PythonSoftwareFoundation.Python.3.11_qbz5n2kfra8p0\\LocalCache\\local-packages\\Python311\\site-packages\\sklearn\\linear_model\\_logistic.py:465: ConvergenceWarning: lbfgs failed to converge (status=1):\n",
      "STOP: TOTAL NO. OF ITERATIONS REACHED LIMIT.\n",
      "\n",
      "Increase the number of iterations (max_iter) or scale the data as shown in:\n",
      "    https://scikit-learn.org/stable/modules/preprocessing.html\n",
      "Please also refer to the documentation for alternative solver options:\n",
      "    https://scikit-learn.org/stable/modules/linear_model.html#logistic-regression\n",
      "  n_iter_i = _check_optimize_result(\n"
     ]
    }
   ],
   "source": [
    "from sklearn.pipeline import Pipeline\n",
    "from sklearn.preprocessing import PolynomialFeatures\n",
    "from sklearn.preprocessing import StandardScaler\n",
    "\n",
    "C = [0.1, 0.01, 1e-3, 1e-4, 1e-5, 1e-6, 1e-7, 1e-8, 1e-9, 1e-10]\n",
    "accuracy_train_poli = np.zeros(len(C))\n",
    "accuracy_test_poli = np.zeros(len(C))\n",
    "CE_test_poli = np.zeros(len(C))\n",
    "CE_train_poli = np.zeros(len(C))\n",
    "\n",
    "for i in range(len(C)):\n",
    "    pipeline = Pipeline([\n",
    "    (\"mapa_poli\", PolynomialFeatures(degree = 2)),\n",
    "    (\"scaler\", StandardScaler()),\n",
    "    (\"model\", LogisticRegression(penalty = 'l2', C = C[i], max_iter = 500, tol = 1e-4))\n",
    "    ])\n",
    "    pipeline.fit(X_train, Y_train)\n",
    "    accuracy_train_poli[i] = accuracy(X_train, Y_train, pipeline)\n",
    "    accuracy_test_poli[i] = accuracy(X_test, Y_test, pipeline)\n",
    "    CE_train_poli[i] = cross_entropy(X_train, Y_train, pipeline)\n",
    "    CE_test_poli[i] = cross_entropy(X_test, Y_test, pipeline)"
   ]
  },
  {
   "cell_type": "markdown",
   "metadata": {},
   "source": [
    "&ensp; A partir de esto, se grafican los datos obtenidos según cada valor de $C$. De esta manera, se puede obtener el valor de menor error de validación a partir del menor valor para la *cross-entropy*, ya que, es el valor mínimo del riesgo empírico."
   ]
  },
  {
   "cell_type": "code",
   "execution_count": 197,
   "metadata": {},
   "outputs": [
    {
     "data": {
      "image/png": "[encoded data removed]",
      "text/plain": [
       "<Figure size 1600x400 with 2 Axes>"
      ]
     },
     "metadata": {},
     "output_type": "display_data"
    }
   ],
   "source": [
    "plt.figure(figsize = (16, 4))\n",
    "\n",
    "plt.subplot(1, 2, 1)\n",
    "plt.plot(C, accuracy_train_poli, label='Entrenamiento', linestyle = '--', marker = 'o')\n",
    "plt.plot(C, accuracy_test_poli, label='Prueba', linestyle = '--', marker = 'o')\n",
    "plt.xscale('log')\n",
    "plt.xlabel('C')\n",
    "plt.ylabel('Accuracy')\n",
    "plt.title('Accuracy vs C')\n",
    "plt.legend(loc='upper left')\n",
    "plt.grid()\n",
    "\n",
    "plt.subplot(1, 2, 2)\n",
    "plt.plot(C, CE_train_poli, label = 'Entrenamiento', linestyle = '--', marker = 'o')\n",
    "plt.plot(C, CE_test_poli, label = 'Prueba', linestyle = '--', marker = 'o')\n",
    "plt.xscale('log')\n",
    "plt.xlabel('C')\n",
    "plt.ylabel('Cross Entropy')\n",
    "plt.title('Cross Entropy vs C')\n",
    "plt.legend(loc='upper left')\n",
    "plt.grid()\n",
    "\n",
    "plt.show()"
   ]
  },
  {
   "cell_type": "markdown",
   "metadata": {},
   "source": [
    "---"
   ]
  },
  {
   "cell_type": "markdown",
   "metadata": {},
   "source": [
    "#### (E). *ROC*"
   ]
  },
  {
   "cell_type": "markdown",
   "metadata": {},
   "source": [
    "**A partir de la salida de $\\texttt{predict\\_proba}$ del conjunto de testeo, implementar la curva ROC. Comparar las ROC de los clasificadores con y sin regularización con la de uno que decide al azar.**\n",
    "\n",
    "&ensp;  Se implementa la función `curva_ROC`, que calcula las tasas de verdaderos positivos o *TPR* y falsos positivos o *FPR* variando el umbral de decisión. Esto se realiza a partir de las probabilidades predichas por el modelo sobre el conjunto de testeo, según la función $\\texttt{predict\\_proba}$."
   ]
  },
  {
   "cell_type": "code",
   "execution_count": 191,
   "metadata": {
    "id": "nASxlyWow6jf"
   },
   "outputs": [],
   "source": [
    "def curva_ROC(X, Y, model):\n",
    "    x = np.linspace(0, 1, 100)\n",
    "    Y_proba = model.predict_proba(X)\n",
    "\n",
    "    TPR = []\n",
    "    FPR = []\n",
    "\n",
    "    for i in x:\n",
    "        TP = np.sum((Y_proba[:, 1] >= i) & (Y == 1)) # TP: probabilidad de perro es mayor al umbral y es perro\n",
    "        FP = np.sum((Y_proba[:, 1] >= i) & (Y == 0)) # FP: probabilidad de perro es mayor al umbral y es gato\n",
    "        TN = np.sum((Y_proba[:, 1] < i) & (Y == 0)) # TN: probabilidad de perro es menor al umbral y es gato\n",
    "        FN = np.sum((Y_proba[:, 1] < i) & (Y == 1)) # FN: probabilidad de perro es menor al umbral y es perro\n",
    "        \n",
    "        TPR_aux = TP / (TP + FN) \n",
    "        TPR.append(TPR_aux)\n",
    "        FPR_aux = FP / (FP + TN)\n",
    "        FPR.append(FPR_aux)\n",
    "\n",
    "    return TPR, FPR"
   ]
  },
  {
   "cell_type": "markdown",
   "metadata": {},
   "source": [
    "&ensp; Para esto, se vuelve a entrenar la regresión logística con el valor de $C$ que devuelve la menor *cross-entropy* del test. De esta manera, se usa la función $\\texttt{argmin}$ que devuelve la posición del valor mínimo dentro de un array."
   ]
  },
  {
   "cell_type": "code",
   "execution_count": 194,
   "metadata": {},
   "outputs": [
    {
     "data": {
      "text/plain": [
       "0.001"
      ]
     },
     "metadata": {},
     "output_type": "display_data"
    }
   ],
   "source": [
    "indice = np.argmin(CE_test_poli)\n",
    "C_optimo = C[indice]\n",
    "display(C_optimo)"
   ]
  },
  {
   "cell_type": "markdown",
   "metadata": {},
   "source": [
    "&ensp; Así, se procede a inicializar y entrenar la regresión logística según lo ya realizado en el apartado anterior."
   ]
  },
  {
   "cell_type": "code",
   "execution_count": null,
   "metadata": {},
   "outputs": [
    {
     "data": {
      "text/html": [
       "<style>#sk-container-id-9 {\n",
       "  /* Definition of color scheme common for light and dark mode */\n",
       "  --sklearn-color-text: #000;\n",
       "  --sklearn-color-text-muted: #666;\n",
       "  --sklearn-color-line: gray;\n",
       "  /* Definition of color scheme for unfitted estimators */\n",
       "  --sklearn-color-unfitted-level-0: #fff5e6;\n",
       "  --sklearn-color-unfitted-level-1: #f6e4d2;\n",
       "  --sklearn-color-unfitted-level-2: #ffe0b3;\n",
       "  --sklearn-color-unfitted-level-3: chocolate;\n",
       "  /* Definition of color scheme for fitted estimators */\n",
       "  --sklearn-color-fitted-level-0: #f0f8ff;\n",
       "  --sklearn-color-fitted-level-1: #d4ebff;\n",
       "  --sklearn-color-fitted-level-2: #b3dbfd;\n",
       "  --sklearn-color-fitted-level-3: cornflowerblue;\n",
       "\n",
       "  /* Specific color for light theme */\n",
       "  --sklearn-color-text-on-default-background: var(--sg-text-color, var(--theme-code-foreground, var(--jp-content-font-color1, black)));\n",
       "  --sklearn-color-background: var(--sg-background-color, var(--theme-background, var(--jp-layout-color0, white)));\n",
       "  --sklearn-color-border-box: var(--sg-text-color, var(--theme-code-foreground, var(--jp-content-font-color1, black)));\n",
       "  --sklearn-color-icon: #696969;\n",
       "\n",
       "  @media (prefers-color-scheme: dark) {\n",
       "    /* Redefinition of color scheme for dark theme */\n",
       "    --sklearn-color-text-on-default-background: var(--sg-text-color, var(--theme-code-foreground, var(--jp-content-font-color1, white)));\n",
       "    --sklearn-color-background: var(--sg-background-color, var(--theme-background, var(--jp-layout-color0, #111)));\n",
       "    --sklearn-color-border-box: var(--sg-text-color, var(--theme-code-foreground, var(--jp-content-font-color1, white)));\n",
       "    --sklearn-color-icon: #878787;\n",
       "  }\n",
       "}\n",
       "\n",
       "#sk-container-id-9 {\n",
       "  color: var(--sklearn-color-text);\n",
       "}\n",
       "\n",
       "#sk-container-id-9 pre {\n",
       "  padding: 0;\n",
       "}\n",
       "\n",
       "#sk-container-id-9 input.sk-hidden--visually {\n",
       "  border: 0;\n",
       "  clip: rect(1px 1px 1px 1px);\n",
       "  clip: rect(1px, 1px, 1px, 1px);\n",
       "  height: 1px;\n",
       "  margin: -1px;\n",
       "  overflow: hidden;\n",
       "  padding: 0;\n",
       "  position: absolute;\n",
       "  width: 1px;\n",
       "}\n",
       "\n",
       "#sk-container-id-9 div.sk-dashed-wrapped {\n",
       "  border: 1px dashed var(--sklearn-color-line);\n",
       "  margin: 0 0.4em 0.5em 0.4em;\n",
       "  box-sizing: border-box;\n",
       "  padding-bottom: 0.4em;\n",
       "  background-color: var(--sklearn-color-background);\n",
       "}\n",
       "\n",
       "#sk-container-id-9 div.sk-container {\n",
       "  /* jupyter's `normalize.less` sets `[hidden] { display: none; }`\n",
       "     but bootstrap.min.css set `[hidden] { display: none !important; }`\n",
       "     so we also need the `!important` here to be able to override the\n",
       "     default hidden behavior on the sphinx rendered scikit-learn.org.\n",
       "     See: https://github.com/scikit-learn/scikit-learn/issues/21755 */\n",
       "  display: inline-block !important;\n",
       "  position: relative;\n",
       "}\n",
       "\n",
       "#sk-container-id-9 div.sk-text-repr-fallback {\n",
       "  display: none;\n",
       "}\n",
       "\n",
       "div.sk-parallel-item,\n",
       "div.sk-serial,\n",
       "div.sk-item {\n",
       "  /* draw centered vertical line to link estimators */\n",
       "  background-image: linear-gradient(var(--sklearn-color-text-on-default-background), var(--sklearn-color-text-on-default-background));\n",
       "  background-size: 2px 100%;\n",
       "  background-repeat: no-repeat;\n",
       "  background-position: center center;\n",
       "}\n",
       "\n",
       "/* Parallel-specific style estimator block */\n",
       "\n",
       "#sk-container-id-9 div.sk-parallel-item::after {\n",
       "  content: \"\";\n",
       "  width: 100%;\n",
       "  border-bottom: 2px solid var(--sklearn-color-text-on-default-background);\n",
       "  flex-grow: 1;\n",
       "}\n",
       "\n",
       "#sk-container-id-9 div.sk-parallel {\n",
       "  display: flex;\n",
       "  align-items: stretch;\n",
       "  justify-content: center;\n",
       "  background-color: var(--sklearn-color-background);\n",
       "  position: relative;\n",
       "}\n",
       "\n",
       "#sk-container-id-9 div.sk-parallel-item {\n",
       "  display: flex;\n",
       "  flex-direction: column;\n",
       "}\n",
       "\n",
       "#sk-container-id-9 div.sk-parallel-item:first-child::after {\n",
       "  align-self: flex-end;\n",
       "  width: 50%;\n",
       "}\n",
       "\n",
       "#sk-container-id-9 div.sk-parallel-item:last-child::after {\n",
       "  align-self: flex-start;\n",
       "  width: 50%;\n",
       "}\n",
       "\n",
       "#sk-container-id-9 div.sk-parallel-item:only-child::after {\n",
       "  width: 0;\n",
       "}\n",
       "\n",
       "/* Serial-specific style estimator block */\n",
       "\n",
       "#sk-container-id-9 div.sk-serial {\n",
       "  display: flex;\n",
       "  flex-direction: column;\n",
       "  align-items: center;\n",
       "  background-color: var(--sklearn-color-background);\n",
       "  padding-right: 1em;\n",
       "  padding-left: 1em;\n",
       "}\n",
       "\n",
       "\n",
       "/* Toggleable style: style used for estimator/Pipeline/ColumnTransformer box that is\n",
       "clickable and can be expanded/collapsed.\n",
       "- Pipeline and ColumnTransformer use this feature and define the default style\n",
       "- Estimators will overwrite some part of the style using the `sk-estimator` class\n",
       "*/\n",
       "\n",
       "/* Pipeline and ColumnTransformer style (default) */\n",
       "\n",
       "#sk-container-id-9 div.sk-toggleable {\n",
       "  /* Default theme specific background. It is overwritten whether we have a\n",
       "  specific estimator or a Pipeline/ColumnTransformer */\n",
       "  background-color: var(--sklearn-color-background);\n",
       "}\n",
       "\n",
       "/* Toggleable label */\n",
       "#sk-container-id-9 label.sk-toggleable__label {\n",
       "  cursor: pointer;\n",
       "  display: flex;\n",
       "  width: 100%;\n",
       "  margin-bottom: 0;\n",
       "  padding: 0.5em;\n",
       "  box-sizing: border-box;\n",
       "  text-align: center;\n",
       "  align-items: start;\n",
       "  justify-content: space-between;\n",
       "  gap: 0.5em;\n",
       "}\n",
       "\n",
       "#sk-container-id-9 label.sk-toggleable__label .caption {\n",
       "  font-size: 0.6rem;\n",
       "  font-weight: lighter;\n",
       "  color: var(--sklearn-color-text-muted);\n",
       "}\n",
       "\n",
       "#sk-container-id-9 label.sk-toggleable__label-arrow:before {\n",
       "  /* Arrow on the left of the label */\n",
       "  content: \"▸\";\n",
       "  float: left;\n",
       "  margin-right: 0.25em;\n",
       "  color: var(--sklearn-color-icon);\n",
       "}\n",
       "\n",
       "#sk-container-id-9 label.sk-toggleable__label-arrow:hover:before {\n",
       "  color: var(--sklearn-color-text);\n",
       "}\n",
       "\n",
       "/* Toggleable content - dropdown */\n",
       "\n",
       "#sk-container-id-9 div.sk-toggleable__content {\n",
       "  max-height: 0;\n",
       "  max-width: 0;\n",
       "  overflow: hidden;\n",
       "  text-align: left;\n",
       "  /* unfitted */\n",
       "  background-color: var(--sklearn-color-unfitted-level-0);\n",
       "}\n",
       "\n",
       "#sk-container-id-9 div.sk-toggleable__content.fitted {\n",
       "  /* fitted */\n",
       "  background-color: var(--sklearn-color-fitted-level-0);\n",
       "}\n",
       "\n",
       "#sk-container-id-9 div.sk-toggleable__content pre {\n",
       "  margin: 0.2em;\n",
       "  border-radius: 0.25em;\n",
       "  color: var(--sklearn-color-text);\n",
       "  /* unfitted */\n",
       "  background-color: var(--sklearn-color-unfitted-level-0);\n",
       "}\n",
       "\n",
       "#sk-container-id-9 div.sk-toggleable__content.fitted pre {\n",
       "  /* unfitted */\n",
       "  background-color: var(--sklearn-color-fitted-level-0);\n",
       "}\n",
       "\n",
       "#sk-container-id-9 input.sk-toggleable__control:checked~div.sk-toggleable__content {\n",
       "  /* Expand drop-down */\n",
       "  max-height: 200px;\n",
       "  max-width: 100%;\n",
       "  overflow: auto;\n",
       "}\n",
       "\n",
       "#sk-container-id-9 input.sk-toggleable__control:checked~label.sk-toggleable__label-arrow:before {\n",
       "  content: \"▾\";\n",
       "}\n",
       "\n",
       "/* Pipeline/ColumnTransformer-specific style */\n",
       "\n",
       "#sk-container-id-9 div.sk-label input.sk-toggleable__control:checked~label.sk-toggleable__label {\n",
       "  color: var(--sklearn-color-text);\n",
       "  background-color: var(--sklearn-color-unfitted-level-2);\n",
       "}\n",
       "\n",
       "#sk-container-id-9 div.sk-label.fitted input.sk-toggleable__control:checked~label.sk-toggleable__label {\n",
       "  background-color: var(--sklearn-color-fitted-level-2);\n",
       "}\n",
       "\n",
       "/* Estimator-specific style */\n",
       "\n",
       "/* Colorize estimator box */\n",
       "#sk-container-id-9 div.sk-estimator input.sk-toggleable__control:checked~label.sk-toggleable__label {\n",
       "  /* unfitted */\n",
       "  background-color: var(--sklearn-color-unfitted-level-2);\n",
       "}\n",
       "\n",
       "#sk-container-id-9 div.sk-estimator.fitted input.sk-toggleable__control:checked~label.sk-toggleable__label {\n",
       "  /* fitted */\n",
       "  background-color: var(--sklearn-color-fitted-level-2);\n",
       "}\n",
       "\n",
       "#sk-container-id-9 div.sk-label label.sk-toggleable__label,\n",
       "#sk-container-id-9 div.sk-label label {\n",
       "  /* The background is the default theme color */\n",
       "  color: var(--sklearn-color-text-on-default-background);\n",
       "}\n",
       "\n",
       "/* On hover, darken the color of the background */\n",
       "#sk-container-id-9 div.sk-label:hover label.sk-toggleable__label {\n",
       "  color: var(--sklearn-color-text);\n",
       "  background-color: var(--sklearn-color-unfitted-level-2);\n",
       "}\n",
       "\n",
       "/* Label box, darken color on hover, fitted */\n",
       "#sk-container-id-9 div.sk-label.fitted:hover label.sk-toggleable__label.fitted {\n",
       "  color: var(--sklearn-color-text);\n",
       "  background-color: var(--sklearn-color-fitted-level-2);\n",
       "}\n",
       "\n",
       "/* Estimator label */\n",
       "\n",
       "#sk-container-id-9 div.sk-label label {\n",
       "  font-family: monospace;\n",
       "  font-weight: bold;\n",
       "  display: inline-block;\n",
       "  line-height: 1.2em;\n",
       "}\n",
       "\n",
       "#sk-container-id-9 div.sk-label-container {\n",
       "  text-align: center;\n",
       "}\n",
       "\n",
       "/* Estimator-specific */\n",
       "#sk-container-id-9 div.sk-estimator {\n",
       "  font-family: monospace;\n",
       "  border: 1px dotted var(--sklearn-color-border-box);\n",
       "  border-radius: 0.25em;\n",
       "  box-sizing: border-box;\n",
       "  margin-bottom: 0.5em;\n",
       "  /* unfitted */\n",
       "  background-color: var(--sklearn-color-unfitted-level-0);\n",
       "}\n",
       "\n",
       "#sk-container-id-9 div.sk-estimator.fitted {\n",
       "  /* fitted */\n",
       "  background-color: var(--sklearn-color-fitted-level-0);\n",
       "}\n",
       "\n",
       "/* on hover */\n",
       "#sk-container-id-9 div.sk-estimator:hover {\n",
       "  /* unfitted */\n",
       "  background-color: var(--sklearn-color-unfitted-level-2);\n",
       "}\n",
       "\n",
       "#sk-container-id-9 div.sk-estimator.fitted:hover {\n",
       "  /* fitted */\n",
       "  background-color: var(--sklearn-color-fitted-level-2);\n",
       "}\n",
       "\n",
       "/* Specification for estimator info (e.g. \"i\" and \"?\") */\n",
       "\n",
       "/* Common style for \"i\" and \"?\" */\n",
       "\n",
       ".sk-estimator-doc-link,\n",
       "a:link.sk-estimator-doc-link,\n",
       "a:visited.sk-estimator-doc-link {\n",
       "  float: right;\n",
       "  font-size: smaller;\n",
       "  line-height: 1em;\n",
       "  font-family: monospace;\n",
       "  background-color: var(--sklearn-color-background);\n",
       "  border-radius: 1em;\n",
       "  height: 1em;\n",
       "  width: 1em;\n",
       "  text-decoration: none !important;\n",
       "  margin-left: 0.5em;\n",
       "  text-align: center;\n",
       "  /* unfitted */\n",
       "  border: var(--sklearn-color-unfitted-level-1) 1pt solid;\n",
       "  color: var(--sklearn-color-unfitted-level-1);\n",
       "}\n",
       "\n",
       ".sk-estimator-doc-link.fitted,\n",
       "a:link.sk-estimator-doc-link.fitted,\n",
       "a:visited.sk-estimator-doc-link.fitted {\n",
       "  /* fitted */\n",
       "  border: var(--sklearn-color-fitted-level-1) 1pt solid;\n",
       "  color: var(--sklearn-color-fitted-level-1);\n",
       "}\n",
       "\n",
       "/* On hover */\n",
       "div.sk-estimator:hover .sk-estimator-doc-link:hover,\n",
       ".sk-estimator-doc-link:hover,\n",
       "div.sk-label-container:hover .sk-estimator-doc-link:hover,\n",
       ".sk-estimator-doc-link:hover {\n",
       "  /* unfitted */\n",
       "  background-color: var(--sklearn-color-unfitted-level-3);\n",
       "  color: var(--sklearn-color-background);\n",
       "  text-decoration: none;\n",
       "}\n",
       "\n",
       "div.sk-estimator.fitted:hover .sk-estimator-doc-link.fitted:hover,\n",
       ".sk-estimator-doc-link.fitted:hover,\n",
       "div.sk-label-container:hover .sk-estimator-doc-link.fitted:hover,\n",
       ".sk-estimator-doc-link.fitted:hover {\n",
       "  /* fitted */\n",
       "  background-color: var(--sklearn-color-fitted-level-3);\n",
       "  color: var(--sklearn-color-background);\n",
       "  text-decoration: none;\n",
       "}\n",
       "\n",
       "/* Span, style for the box shown on hovering the info icon */\n",
       ".sk-estimator-doc-link span {\n",
       "  display: none;\n",
       "  z-index: 9999;\n",
       "  position: relative;\n",
       "  font-weight: normal;\n",
       "  right: .2ex;\n",
       "  padding: .5ex;\n",
       "  margin: .5ex;\n",
       "  width: min-content;\n",
       "  min-width: 20ex;\n",
       "  max-width: 50ex;\n",
       "  color: var(--sklearn-color-text);\n",
       "  box-shadow: 2pt 2pt 4pt #999;\n",
       "  /* unfitted */\n",
       "  background: var(--sklearn-color-unfitted-level-0);\n",
       "  border: .5pt solid var(--sklearn-color-unfitted-level-3);\n",
       "}\n",
       "\n",
       ".sk-estimator-doc-link.fitted span {\n",
       "  /* fitted */\n",
       "  background: var(--sklearn-color-fitted-level-0);\n",
       "  border: var(--sklearn-color-fitted-level-3);\n",
       "}\n",
       "\n",
       ".sk-estimator-doc-link:hover span {\n",
       "  display: block;\n",
       "}\n",
       "\n",
       "/* \"?\"-specific style due to the `<a>` HTML tag */\n",
       "\n",
       "#sk-container-id-9 a.estimator_doc_link {\n",
       "  float: right;\n",
       "  font-size: 1rem;\n",
       "  line-height: 1em;\n",
       "  font-family: monospace;\n",
       "  background-color: var(--sklearn-color-background);\n",
       "  border-radius: 1rem;\n",
       "  height: 1rem;\n",
       "  width: 1rem;\n",
       "  text-decoration: none;\n",
       "  /* unfitted */\n",
       "  color: var(--sklearn-color-unfitted-level-1);\n",
       "  border: var(--sklearn-color-unfitted-level-1) 1pt solid;\n",
       "}\n",
       "\n",
       "#sk-container-id-9 a.estimator_doc_link.fitted {\n",
       "  /* fitted */\n",
       "  border: var(--sklearn-color-fitted-level-1) 1pt solid;\n",
       "  color: var(--sklearn-color-fitted-level-1);\n",
       "}\n",
       "\n",
       "/* On hover */\n",
       "#sk-container-id-9 a.estimator_doc_link:hover {\n",
       "  /* unfitted */\n",
       "  background-color: var(--sklearn-color-unfitted-level-3);\n",
       "  color: var(--sklearn-color-background);\n",
       "  text-decoration: none;\n",
       "}\n",
       "\n",
       "#sk-container-id-9 a.estimator_doc_link.fitted:hover {\n",
       "  /* fitted */\n",
       "  background-color: var(--sklearn-color-fitted-level-3);\n",
       "}\n",
       "</style><div id=\"sk-container-id-9\" class=\"sk-top-container\"><div class=\"sk-text-repr-fallback\"><pre>Pipeline(steps=[(&#x27;mapa_poli&#x27;, PolynomialFeatures()),\n",
       "                (&#x27;scaler&#x27;, StandardScaler()),\n",
       "                (&#x27;model&#x27;, LogisticRegression(C=0.001, max_iter=1000))])</pre><b>In a Jupyter environment, please rerun this cell to show the HTML representation or trust the notebook. <br />On GitHub, the HTML representation is unable to render, please try loading this page with nbviewer.org.</b></div><div class=\"sk-container\" hidden><div class=\"sk-item sk-dashed-wrapped\"><div class=\"sk-label-container\"><div class=\"sk-label fitted sk-toggleable\"><input class=\"sk-toggleable__control sk-hidden--visually\" id=\"sk-estimator-id-15\" type=\"checkbox\" ><label for=\"sk-estimator-id-15\" class=\"sk-toggleable__label fitted sk-toggleable__label-arrow\"><div><div>Pipeline</div></div><div><a class=\"sk-estimator-doc-link fitted\" rel=\"noreferrer\" target=\"_blank\" href=\"https://scikit-learn.org/1.6/modules/generated/sklearn.pipeline.Pipeline.html\">?<span>Documentation for Pipeline</span></a><span class=\"sk-estimator-doc-link fitted\">i<span>Fitted</span></span></div></label><div class=\"sk-toggleable__content fitted\"><pre>Pipeline(steps=[(&#x27;mapa_poli&#x27;, PolynomialFeatures()),\n",
       "                (&#x27;scaler&#x27;, StandardScaler()),\n",
       "                (&#x27;model&#x27;, LogisticRegression(C=0.001, max_iter=1000))])</pre></div> </div></div><div class=\"sk-serial\"><div class=\"sk-item\"><div class=\"sk-estimator fitted sk-toggleable\"><input class=\"sk-toggleable__control sk-hidden--visually\" id=\"sk-estimator-id-16\" type=\"checkbox\" ><label for=\"sk-estimator-id-16\" class=\"sk-toggleable__label fitted sk-toggleable__label-arrow\"><div><div>PolynomialFeatures</div></div><div><a class=\"sk-estimator-doc-link fitted\" rel=\"noreferrer\" target=\"_blank\" href=\"https://scikit-learn.org/1.6/modules/generated/sklearn.preprocessing.PolynomialFeatures.html\">?<span>Documentation for PolynomialFeatures</span></a></div></label><div class=\"sk-toggleable__content fitted\"><pre>PolynomialFeatures()</pre></div> </div></div><div class=\"sk-item\"><div class=\"sk-estimator fitted sk-toggleable\"><input class=\"sk-toggleable__control sk-hidden--visually\" id=\"sk-estimator-id-17\" type=\"checkbox\" ><label for=\"sk-estimator-id-17\" class=\"sk-toggleable__label fitted sk-toggleable__label-arrow\"><div><div>StandardScaler</div></div><div><a class=\"sk-estimator-doc-link fitted\" rel=\"noreferrer\" target=\"_blank\" href=\"https://scikit-learn.org/1.6/modules/generated/sklearn.preprocessing.StandardScaler.html\">?<span>Documentation for StandardScaler</span></a></div></label><div class=\"sk-toggleable__content fitted\"><pre>StandardScaler()</pre></div> </div></div><div class=\"sk-item\"><div class=\"sk-estimator fitted sk-toggleable\"><input class=\"sk-toggleable__control sk-hidden--visually\" id=\"sk-estimator-id-18\" type=\"checkbox\" ><label for=\"sk-estimator-id-18\" class=\"sk-toggleable__label fitted sk-toggleable__label-arrow\"><div><div>LogisticRegression</div></div><div><a class=\"sk-estimator-doc-link fitted\" rel=\"noreferrer\" target=\"_blank\" href=\"https://scikit-learn.org/1.6/modules/generated/sklearn.linear_model.LogisticRegression.html\">?<span>Documentation for LogisticRegression</span></a></div></label><div class=\"sk-toggleable__content fitted\"><pre>LogisticRegression(C=0.001, max_iter=1000)</pre></div> </div></div></div></div></div></div>"
      ],
      "text/plain": [
       "Pipeline(steps=[('mapa_poli', PolynomialFeatures()),\n",
       "                ('scaler', StandardScaler()),\n",
       "                ('model', LogisticRegression(C=0.001, max_iter=1000))])"
      ]
     },
     "execution_count": 195,
     "metadata": {},
     "output_type": "execute_result"
    }
   ],
   "source": [
    "pipe = Pipeline([\n",
    "    (\"mapa_poli\", PolynomialFeatures(degree = 2)),\n",
    "    (\"scaler\", StandardScaler()),\n",
    "    (\"model\", LogisticRegression(penalty = 'l2', C = C_optimo, max_iter = 1000, tol = 1e-4))\n",
    "    ])\n",
    "\n",
    "pipe.fit(X_train, Y_train)"
   ]
  },
  {
   "cell_type": "markdown",
   "metadata": {},
   "source": [
    "&ensp; Finalmente, se compara gráficamente el desempeño de la regresión logística con y sin regularización, frente al de un clasificador aleatorio, tal como solicita el enunciado."
   ]
  },
  {
   "cell_type": "code",
   "execution_count": 199,
   "metadata": {},
   "outputs": [
    {
     "data": {
      "image/png": "[encoded data removed]",
      "text/plain": [
       "<Figure size 1000x500 with 1 Axes>"
      ]
     },
     "metadata": {},
     "output_type": "display_data"
    }
   ],
   "source": [
    "TPR_sin_reg, FPR_sin_reg = curva_ROC(X_test, Y_test, Log_Reg)\n",
    "TPR_con_reg, FPR_con_reg = curva_ROC(X_test, Y_test, pipe)\n",
    "\n",
    "x = np.linspace(0, 1, 100)\n",
    "plt.figure(figsize=(10, 5))\n",
    "plt.plot(x, x, label='Aleatorio', linestyle = '--', color = 'gray')\n",
    "plt.plot(FPR_sin_reg, TPR_sin_reg, label='Sin Regularización', linestyle = '--', marker = 'o')\n",
    "plt.plot(FPR_con_reg, TPR_con_reg, label='Con Regularización', linestyle = '--', marker = 'o')\n",
    "plt.xlabel('False Positive Rate')\n",
    "plt.ylabel('True Positive Rate')\n",
    "plt.grid()\n",
    "plt.legend()\n",
    "plt.title('Curva ROC')\n",
    "plt.show()"
   ]
  },
  {
   "cell_type": "markdown",
   "metadata": {},
   "source": [
    "&ensp; De esta manera, se puede observar que la curva correspondiente al modelo con regularización se encuentra por encima de la del modelo sin regularización, lo que indica un mejor desempeño en términos de sensibilidad y especificidad. Además, ambos modelos superan la línea diagonal, que representa un clasificador aleatorio. Por lo tanto, todo esto demuestra que la regularización mejora la capacidad del modelo para discriminar entre perros y gatos, mejorando la generalización.\n",
    "\n",
    "&ensp; Por último, a modo de curiosidad, se vuelve a analizar la imagen del consejero con el modelo regularizado, obteniendo así los siguientes resultados."
   ]
  },
  {
   "cell_type": "code",
   "execution_count": 202,
   "metadata": {},
   "outputs": [
    {
     "name": "stdout",
     "output_type": "stream",
     "text": [
      "El consejero es un gato\n",
      "Probabilidad de que sea un perro: 0.2563\n",
      "Probabilidad de que sea un gato: 0.7437\n"
     ]
    }
   ],
   "source": [
    "Y_hard_consejero_reg = pipe.predict(X_consejero)\n",
    "if Y_hard_consejero_reg == 1:\n",
    "    print(\"El consejero es un perro\")\n",
    "else:   \n",
    "    print(\"El consejero es un gato\")\n",
    "\n",
    "Y_soft_consejero_reg = pipe.predict_proba(X_consejero)\n",
    "print(f\"Probabilidad de que sea un perro: {Y_soft_consejero_reg[0][1]:.4f}\")\n",
    "print(f\"Probabilidad de que sea un gato: {Y_soft_consejero_reg[0][0]:.4f}\")"
   ]
  },
  {
   "cell_type": "markdown",
   "metadata": {},
   "source": [
    "---\n",
    "---"
   ]
  },
  {
   "cell_type": "markdown",
   "metadata": {},
   "source": [
    "### <center> **Conclusiones**"
   ]
  },
  {
   "cell_type": "markdown",
   "metadata": {},
   "source": [
    "&ensp; En este trabajo se abordó la clasificación de imágenes de gatos y perros mediante regresión logística, comenzando con el preprocesamiento de los datos: conversión a escala de grises, redimensionado y vectorización. Posteriormente, se entrenaron modelos utilizando tanto regresión logística sin regularización como con regularización, evaluando su desempeño sobre el conjunto de prueba.\n",
    "\n",
    "&ensp;  En cuanto al desarrollo teórico, se presentaron la función sigmoide, su inversa y su derivada, que son importantes para la formulación del modelo de regresión logística. Estos resultados fueron utilizados a la hora de realizar el cálculo del gradiente de la función de costo $J$ que, en este caso, es la *cross-entropy*.\n",
    "\n",
    "&ensp; Por otro lado, con el objetivo de determinar el hiperparámetro óptimo de regularización, se realizó un barrido sobre distintos valores del mismo, analizando cuál minimizaba la función de costo. Además, se graficaron las curvas ROC para comparar el desempeño de los modelos con y sin regularización frente a un clasificador aleatorio, observándose una clara ventaja del modelo regularizado en términos de sensibilidad y capacidad discriminativa.\n",
    "\n",
    "&ensp; También se utilizó el modelo sin regularización para clasificar una imagen externa (el “consejero” de la guía), obteniendo un resultado determinado. Al aplicar el modelo regularizado sobre la misma imagen, se obtuvo una probabilidad de clasificación significativamente mayor y un resultado distinto, lo que evidenció una mejor capacidad de este para clasificar frente a ejemplos difíciles.\n",
    "\n",
    "&ensp; Finalmente, este trabajo permitió profundizar en el diseño e implementación de modelos de clasificación en $\\texttt{Python}$ mediante regresión logística. Se empleó una estructura modular y reutilizable, basada en programación orientada a objetos, lo cual facilitó la organización del código a lo largo del trabajo.\n"
   ]
  }
 ],
 "metadata": {
  "colab": {
   "authorship_tag": "ABX9TyOpNNGQvoo0BC3tZHyJcJiH",
   "provenance": []
  },
  "kernelspec": {
   "display_name": "Python 3",
   "name": "python3"
  },
  "language_info": {
   "codemirror_mode": {
    "name": "ipython",
    "version": 3
   },
   "file_extension": ".py",
   "mimetype": "text/x-python",
   "name": "python",
   "nbconvert_exporter": "python",
   "pygments_lexer": "ipython3",
   "version": "3.11.9"
  }
 },
 "nbformat": 4,
 "nbformat_minor": 0
}
